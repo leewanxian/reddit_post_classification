{
 "cells": [
  {
   "cell_type": "markdown",
   "id": "f05100d2-e83f-4e1b-b420-cd10e0e627d2",
   "metadata": {},
   "source": [
    "# Project 3: Web APIs & NLP\n",
    "---\n",
    "Book 1: Data Collection<br>\n",
    "Book 2: Data Cleaning & Exploratory Data Analysis<br>\n",
    "**Book 3: Preprocessing & Vectorization**<br>\n",
    "Book 4: ML Modeling<br>\n",
    "Book 5: Sentiment Analysis, Conclusion & Recommendation<br>\n",
    "Author: Lee Wan Xian"
   ]
  },
  {
   "cell_type": "markdown",
   "id": "d68e9f30-900c-4412-8735-1b1f99c7a287",
   "metadata": {},
   "source": [
    "## Contents:\n",
    "- [Data Preprocessing](#Data-Preprocessing)\n",
    "- [Vectorization](#Vectorization)"
   ]
  },
  {
   "cell_type": "markdown",
   "id": "ed3f85d9-2a89-48f4-b1ee-91aae442ca0a",
   "metadata": {},
   "source": [
    "## Python Libraries"
   ]
  },
  {
   "cell_type": "code",
   "execution_count": 1,
   "id": "e66a3f28-a080-4f0c-b1a8-b6d66b05b84c",
   "metadata": {},
   "outputs": [],
   "source": [
    "import pandas as pd\n",
    "import numpy as np\n",
    "import matplotlib.pyplot as plt\n",
    "import seaborn as sns\n",
    "\n",
    "import emoji\n",
    "import re\n",
    "from nltk.corpus import stopwords\n",
    "from nltk.tokenize import word_tokenize, RegexpTokenizer\n",
    "from nltk.stem import WordNetLemmatizer\n",
    "from nltk.stem.porter import PorterStemmer\n",
    "from sklearn.feature_extraction.text import CountVectorizer, TfidfVectorizer"
   ]
  },
  {
   "cell_type": "code",
   "execution_count": 2,
   "id": "10ce02b8-04bc-4732-8632-ab744b114416",
   "metadata": {},
   "outputs": [],
   "source": [
    "# this setting widens pandas column to fit 400 characters\n",
    "pd.options.display.max_colwidth = 400"
   ]
  },
  {
   "cell_type": "markdown",
   "id": "6eb6a150-1b4c-4ae2-991f-ebfa194aef14",
   "metadata": {},
   "source": [
    "## Data Preprocessing"
   ]
  },
  {
   "cell_type": "markdown",
   "id": "e51d243d-c24c-475c-aed7-0733a035192c",
   "metadata": {},
   "source": [
    "**Initial data corpus cleanup**"
   ]
  },
  {
   "cell_type": "code",
   "execution_count": 3,
   "id": "ba2815c4-1e79-4640-a550-8999a5a358a9",
   "metadata": {},
   "outputs": [],
   "source": [
    "# Import raw corpus\n",
    "df_raw = pd.read_csv('../data/df_raw.csv')"
   ]
  },
  {
   "cell_type": "code",
   "execution_count": 4,
   "id": "bde2c222-e5f8-4ab5-9e44-964727378ae3",
   "metadata": {},
   "outputs": [],
   "source": [
    "# Drop duplicates from df_raw & create a corpus copy from df_raw for modelling\n",
    "df_raw.drop_duplicates(inplace=True)\n",
    "df_corpus = df_raw"
   ]
  },
  {
   "cell_type": "code",
   "execution_count": 5,
   "id": "6cb72c0e-d982-47e3-8c32-cf9a060094f9",
   "metadata": {},
   "outputs": [
    {
     "data": {
      "text/html": [
       "<div>\n",
       "<style scoped>\n",
       "    .dataframe tbody tr th:only-of-type {\n",
       "        vertical-align: middle;\n",
       "    }\n",
       "\n",
       "    .dataframe tbody tr th {\n",
       "        vertical-align: top;\n",
       "    }\n",
       "\n",
       "    .dataframe thead th {\n",
       "        text-align: right;\n",
       "    }\n",
       "</style>\n",
       "<table border=\"1\" class=\"dataframe\">\n",
       "  <thead>\n",
       "    <tr style=\"text-align: right;\">\n",
       "      <th></th>\n",
       "      <th>subreddit</th>\n",
       "      <th>title</th>\n",
       "      <th>selftext</th>\n",
       "      <th>is_video</th>\n",
       "      <th>created_utc</th>\n",
       "    </tr>\n",
       "  </thead>\n",
       "  <tbody>\n",
       "    <tr>\n",
       "      <th>0</th>\n",
       "      <td>DisneyPlus</td>\n",
       "      <td>willow.... thought you were to be released today?</td>\n",
       "      <td>[removed]</td>\n",
       "      <td>False</td>\n",
       "      <td>1664581822</td>\n",
       "    </tr>\n",
       "    <tr>\n",
       "      <th>1</th>\n",
       "      <td>DisneyPlus</td>\n",
       "      <td>Who’s excited?!</td>\n",
       "      <td>[removed]</td>\n",
       "      <td>False</td>\n",
       "      <td>1664580125</td>\n",
       "    </tr>\n",
       "    <tr>\n",
       "      <th>2</th>\n",
       "      <td>DisneyPlus</td>\n",
       "      <td>Hocus Pocus 2 was a let down, thoughts?</td>\n",
       "      <td>[removed]</td>\n",
       "      <td>False</td>\n",
       "      <td>1664579363</td>\n",
       "    </tr>\n",
       "    <tr>\n",
       "      <th>3</th>\n",
       "      <td>DisneyPlus</td>\n",
       "      <td>Friend made Hocus Pocus cookies!</td>\n",
       "      <td>NaN</td>\n",
       "      <td>False</td>\n",
       "      <td>1664578323</td>\n",
       "    </tr>\n",
       "    <tr>\n",
       "      <th>4</th>\n",
       "      <td>DisneyPlus</td>\n",
       "      <td>Hocus Pocus 2 - Movie Discussion Thread</td>\n",
       "      <td>As there wasn't one already thought I'd create one.</td>\n",
       "      <td>False</td>\n",
       "      <td>1664575672</td>\n",
       "    </tr>\n",
       "  </tbody>\n",
       "</table>\n",
       "</div>"
      ],
      "text/plain": [
       "    subreddit                                              title  \\\n",
       "0  DisneyPlus  willow.... thought you were to be released today?   \n",
       "1  DisneyPlus                                    Who’s excited?!   \n",
       "2  DisneyPlus            Hocus Pocus 2 was a let down, thoughts?   \n",
       "3  DisneyPlus                   Friend made Hocus Pocus cookies!   \n",
       "4  DisneyPlus            Hocus Pocus 2 - Movie Discussion Thread   \n",
       "\n",
       "                                              selftext  is_video  created_utc  \n",
       "0                                            [removed]     False   1664581822  \n",
       "1                                            [removed]     False   1664580125  \n",
       "2                                            [removed]     False   1664579363  \n",
       "3                                                  NaN     False   1664578323  \n",
       "4  As there wasn't one already thought I'd create one.     False   1664575672  "
      ]
     },
     "execution_count": 5,
     "metadata": {},
     "output_type": "execute_result"
    }
   ],
   "source": [
    "df_corpus.head()"
   ]
  },
  {
   "cell_type": "markdown",
   "id": "bb22c515-eac8-4e94-b92d-f66e1f2ad110",
   "metadata": {},
   "source": [
    "Export corpus for Sentiment analysis in Book 5"
   ]
  },
  {
   "cell_type": "code",
   "execution_count": 6,
   "id": "6ed77193-cfcc-47ba-b003-c0a7eab7392e",
   "metadata": {},
   "outputs": [],
   "source": [
    "import os\n",
    "# create new folder named 'data' if it does not exist\n",
    "if not os.path.exists('../data'):\n",
    "    os.makedirs('../data')\n",
    "    \n",
    "# Export the dataframes into csv files    \n",
    "df_corpus.to_csv('../data/df_senti.csv', index=False)"
   ]
  },
  {
   "cell_type": "markdown",
   "id": "8ed1c117-88ca-47f4-a183-92e009a04fa9",
   "metadata": {},
   "source": [
    "### Feature Engineering"
   ]
  },
  {
   "cell_type": "markdown",
   "id": "70f67af4-776e-4a22-86cd-5f80c4cd02ae",
   "metadata": {},
   "source": [
    "We will create a new feature (`full_text`) which combines word text from `title` and `selftext`."
   ]
  },
  {
   "cell_type": "code",
   "execution_count": 7,
   "id": "c1deb463-1d18-443d-a60c-237caf884c1d",
   "metadata": {},
   "outputs": [],
   "source": [
    "# Fill the blank selftext documents with empty field\n",
    "df_corpus['selftext'].fillna(value = '', inplace=True)"
   ]
  },
  {
   "cell_type": "code",
   "execution_count": 8,
   "id": "a3074720-1d82-4375-b598-7c8e23624795",
   "metadata": {},
   "outputs": [],
   "source": [
    "# Create full_text feature\n",
    "df_corpus['full_text'] = df_corpus['title'] + ' ' + df_corpus['selftext']"
   ]
  },
  {
   "cell_type": "markdown",
   "id": "7ad083ea-f736-4845-b7d3-87d4f2d983e7",
   "metadata": {},
   "source": [
    "Now, we can drop the unnecessary columns that would only serve as noise to the classification model training."
   ]
  },
  {
   "cell_type": "code",
   "execution_count": 9,
   "id": "31be5f0a-d361-4dd2-afd4-1d69955f2589",
   "metadata": {},
   "outputs": [],
   "source": [
    "df_corpus.drop(['title', 'selftext', 'is_video', 'created_utc'],\n",
    "               axis='columns',\n",
    "               inplace=True)"
   ]
  },
  {
   "cell_type": "code",
   "execution_count": 10,
   "id": "dccc62df-9028-4a11-9137-071f95f5cf4d",
   "metadata": {},
   "outputs": [
    {
     "data": {
      "text/html": [
       "<div>\n",
       "<style scoped>\n",
       "    .dataframe tbody tr th:only-of-type {\n",
       "        vertical-align: middle;\n",
       "    }\n",
       "\n",
       "    .dataframe tbody tr th {\n",
       "        vertical-align: top;\n",
       "    }\n",
       "\n",
       "    .dataframe thead th {\n",
       "        text-align: right;\n",
       "    }\n",
       "</style>\n",
       "<table border=\"1\" class=\"dataframe\">\n",
       "  <thead>\n",
       "    <tr style=\"text-align: right;\">\n",
       "      <th></th>\n",
       "      <th>subreddit</th>\n",
       "      <th>full_text</th>\n",
       "    </tr>\n",
       "  </thead>\n",
       "  <tbody>\n",
       "    <tr>\n",
       "      <th>0</th>\n",
       "      <td>DisneyPlus</td>\n",
       "      <td>willow.... thought you were to be released today? [removed]</td>\n",
       "    </tr>\n",
       "    <tr>\n",
       "      <th>1</th>\n",
       "      <td>DisneyPlus</td>\n",
       "      <td>Who’s excited?! [removed]</td>\n",
       "    </tr>\n",
       "    <tr>\n",
       "      <th>2</th>\n",
       "      <td>DisneyPlus</td>\n",
       "      <td>Hocus Pocus 2 was a let down, thoughts? [removed]</td>\n",
       "    </tr>\n",
       "    <tr>\n",
       "      <th>3</th>\n",
       "      <td>DisneyPlus</td>\n",
       "      <td>Friend made Hocus Pocus cookies!</td>\n",
       "    </tr>\n",
       "    <tr>\n",
       "      <th>4</th>\n",
       "      <td>DisneyPlus</td>\n",
       "      <td>Hocus Pocus 2 - Movie Discussion Thread As there wasn't one already thought I'd create one.</td>\n",
       "    </tr>\n",
       "  </tbody>\n",
       "</table>\n",
       "</div>"
      ],
      "text/plain": [
       "    subreddit  \\\n",
       "0  DisneyPlus   \n",
       "1  DisneyPlus   \n",
       "2  DisneyPlus   \n",
       "3  DisneyPlus   \n",
       "4  DisneyPlus   \n",
       "\n",
       "                                                                                     full_text  \n",
       "0                                  willow.... thought you were to be released today? [removed]  \n",
       "1                                                                    Who’s excited?! [removed]  \n",
       "2                                            Hocus Pocus 2 was a let down, thoughts? [removed]  \n",
       "3                                                            Friend made Hocus Pocus cookies!   \n",
       "4  Hocus Pocus 2 - Movie Discussion Thread As there wasn't one already thought I'd create one.  "
      ]
     },
     "execution_count": 10,
     "metadata": {},
     "output_type": "execute_result"
    }
   ],
   "source": [
    "df_corpus.head()"
   ]
  },
  {
   "cell_type": "markdown",
   "id": "84514cc2-923a-4c1a-b315-d8b28f2dd8ea",
   "metadata": {},
   "source": [
    "### Lowercasing & Special Character Removal"
   ]
  },
  {
   "cell_type": "code",
   "execution_count": 11,
   "id": "e230cc00-9631-4686-9d7b-185cc6333d8f",
   "metadata": {},
   "outputs": [],
   "source": [
    "# Function to lowercase string & remove weblinks, '\\n', '&amp;', digits\n",
    "\n",
    "def lower_remove_char(text):\n",
    "    \n",
    "    # Lowercase the text\n",
    "    t1 = text.lower()\n",
    "    \n",
    "    # remove characters\n",
    "    t2 = re.sub(r'http\\S+', '', t1)\n",
    "    t3 = t2.replace('\\n', '')\n",
    "    t4 = t3.replace('&amp;', '')\n",
    "    t5 = re.sub(r'\\d+', '', t4)\n",
    "    \n",
    "    return t5"
   ]
  },
  {
   "cell_type": "code",
   "execution_count": 12,
   "id": "d25052b9-9453-4e2d-8f4e-0146fee2772a",
   "metadata": {},
   "outputs": [],
   "source": [
    "# Remove special chars & lowercase string\n",
    "df_corpus['full_text'] = df_corpus['full_text'].apply(lower_remove_char)"
   ]
  },
  {
   "cell_type": "markdown",
   "id": "855fa3c6-3ba9-474b-b2fd-b2819751ec66",
   "metadata": {},
   "source": [
    "### Emoji conversion & Underscore removal"
   ]
  },
  {
   "cell_type": "code",
   "execution_count": 13,
   "id": "f4b92ac0-002e-4ace-8ef7-44e82de7f5ee",
   "metadata": {},
   "outputs": [],
   "source": [
    "# Convert emojis into text\n",
    "df_corpus['full_text'] = df_corpus['full_text'].apply(lambda x: emoji.demojize(x, delimiters=(\" \", \" \")))"
   ]
  },
  {
   "cell_type": "code",
   "execution_count": 14,
   "id": "bd39e7d8-4f41-4eab-9098-29c3e0148d79",
   "metadata": {},
   "outputs": [],
   "source": [
    "# Remove underscores\n",
    "df_corpus['full_text'] = df_corpus['full_text'].map(lambda x: x.replace('_', ''))"
   ]
  },
  {
   "cell_type": "markdown",
   "id": "d2c36153-82f2-4bf4-b4e0-97cc1d8339d6",
   "metadata": {},
   "source": [
    "### Tokenization"
   ]
  },
  {
   "cell_type": "code",
   "execution_count": 15,
   "id": "d0c00a08-f25a-447f-beaf-e02cbac6dcd3",
   "metadata": {},
   "outputs": [],
   "source": [
    "# Instantiate tokenizer for all character words\n",
    "tokenizer = RegexpTokenizer(r'\\w+')\n",
    "\n",
    "# Apply tokenizer into full_text corpus\n",
    "df_corpus['token'] = df_corpus['full_text'].apply(lambda x: tokenizer.tokenize(x))"
   ]
  },
  {
   "cell_type": "markdown",
   "id": "5b2172b1-c133-49b6-b8a7-f72ecfe039cc",
   "metadata": {},
   "source": [
    "### Remove Stop Words"
   ]
  },
  {
   "cell_type": "code",
   "execution_count": 16,
   "id": "d8b15ae8-3703-4644-b8d6-3ee6f7b12b84",
   "metadata": {},
   "outputs": [],
   "source": [
    "# Instantiate Stop words from nltk\n",
    "nltk_stopwords = stopwords.words(\"english\")\n",
    "\n",
    "# Define additional stop words\n",
    "add_stop_wds = ['disney','disney+','plus','series','season','episode','streaming','shows','show','episodes','app','tv','netflix','movie','movies','account','r/netflix','r/disneyplus',\n",
    "                'disneyplus','removed','a','b','c','d','e','f','g','h','i','j','k','l','m','n','o','p','q','r','s','t','u','v','w','x','y','z']\n",
    "\n",
    "# create customized stop words list\n",
    "cust_stop_wds = list(set(add_stop_wds + nltk_stopwords))"
   ]
  },
  {
   "cell_type": "code",
   "execution_count": 17,
   "id": "3ef5e7c3-a328-433d-a7cf-6706616072f5",
   "metadata": {},
   "outputs": [],
   "source": [
    "# Function for dropping stop words from token list\n",
    "\n",
    "def drop_stopwords_token(list_tokens):\n",
    "    \n",
    "    t = [token for token in list_tokens if token not in cust_stop_wds]   # Run through the list of tokens against the list of stopwords\n",
    "    text = ' '.join(t)                                                   # Join them back as a string\n",
    "        \n",
    "    return tokenizer.tokenize(text)                                      # tokenize the string again"
   ]
  },
  {
   "cell_type": "code",
   "execution_count": 18,
   "id": "216f8eb2-85b0-4a9e-a991-4dc4fccdf2b9",
   "metadata": {
    "scrolled": true,
    "tags": []
   },
   "outputs": [],
   "source": [
    "# Apply drop stop words into text_token column\n",
    "df_corpus['text_token'] = df_corpus['token'].apply(drop_stopwords_token)"
   ]
  },
  {
   "cell_type": "markdown",
   "id": "a1bf4dc9-5889-4d93-bdc4-8a237443f385",
   "metadata": {},
   "source": [
    "### Lemmatization"
   ]
  },
  {
   "cell_type": "code",
   "execution_count": 19,
   "id": "72a35f06-5dd0-4120-bfc5-bbdcb618c7b4",
   "metadata": {},
   "outputs": [],
   "source": [
    "# Function to lemmatize text_tokens & return lemmatize string\n",
    "\n",
    "def lemmatize_tokentostr(list_token):\n",
    "    \n",
    "    # Instantiate lemmatizer\n",
    "    lemmatizer = WordNetLemmatizer()\n",
    "    lem_list = []\n",
    "    \n",
    "    # Lemmatize all tokens in text_token\n",
    "    for token in list_token:\n",
    "        lem_t = lemmatizer.lemmatize(token)\n",
    "        lem_list.append(lem_t)\n",
    "        \n",
    "    # Return lemmatize text string\n",
    "    re_text = ' '.join(lem_list)\n",
    "    \n",
    "    return re_text"
   ]
  },
  {
   "cell_type": "code",
   "execution_count": 20,
   "id": "d6534ba8-4aae-430b-bc18-fb40aedff4c6",
   "metadata": {},
   "outputs": [],
   "source": [
    "# Create the series for lemmatized text\n",
    "df_corpus['full_text_lem'] = df_corpus['text_token'].apply(lemmatize_tokentostr)"
   ]
  },
  {
   "cell_type": "markdown",
   "id": "e2a102c4-9d84-4743-aef2-66c7d72cafe8",
   "metadata": {},
   "source": [
    "### Stemming"
   ]
  },
  {
   "cell_type": "code",
   "execution_count": 21,
   "id": "5008e3ca-c1be-459b-a6fb-6bf880bce6bf",
   "metadata": {},
   "outputs": [],
   "source": [
    "# Function to stem text_tokens & return stemmed string\n",
    "\n",
    "def stem_tokentostr(list_token):\n",
    "    \n",
    "    # Instantiate PorterStemmer\n",
    "    stemmer = PorterStemmer()\n",
    "    stem_list = []\n",
    "    \n",
    "    # stem all tokens in text_token\n",
    "    for token in list_token:\n",
    "        stem_t = stemmer.stem(token)\n",
    "        stem_list.append(stem_t)\n",
    "        \n",
    "    # Return lemmatize text string\n",
    "    re_text = ' '.join(stem_list)\n",
    "    \n",
    "    return re_text"
   ]
  },
  {
   "cell_type": "code",
   "execution_count": 22,
   "id": "d7237333-49b0-490c-adb3-166a67649e82",
   "metadata": {},
   "outputs": [],
   "source": [
    "# Create the series for lemmatized text\n",
    "df_corpus['full_text_stem'] = df_corpus['text_token'].apply(stem_tokentostr)"
   ]
  },
  {
   "cell_type": "code",
   "execution_count": 23,
   "id": "608e1bcd-7dfc-4b27-a988-0ea1b46549a2",
   "metadata": {},
   "outputs": [
    {
     "data": {
      "text/html": [
       "<div>\n",
       "<style scoped>\n",
       "    .dataframe tbody tr th:only-of-type {\n",
       "        vertical-align: middle;\n",
       "    }\n",
       "\n",
       "    .dataframe tbody tr th {\n",
       "        vertical-align: top;\n",
       "    }\n",
       "\n",
       "    .dataframe thead th {\n",
       "        text-align: right;\n",
       "    }\n",
       "</style>\n",
       "<table border=\"1\" class=\"dataframe\">\n",
       "  <thead>\n",
       "    <tr style=\"text-align: right;\">\n",
       "      <th></th>\n",
       "      <th>subreddit</th>\n",
       "      <th>full_text</th>\n",
       "      <th>token</th>\n",
       "      <th>text_token</th>\n",
       "      <th>full_text_lem</th>\n",
       "      <th>full_text_stem</th>\n",
       "    </tr>\n",
       "  </thead>\n",
       "  <tbody>\n",
       "    <tr>\n",
       "      <th>0</th>\n",
       "      <td>DisneyPlus</td>\n",
       "      <td>willow.... thought you were to be released today? [removed]</td>\n",
       "      <td>[willow, thought, you, were, to, be, released, today, removed]</td>\n",
       "      <td>[willow, thought, released, today]</td>\n",
       "      <td>willow thought released today</td>\n",
       "      <td>willow thought releas today</td>\n",
       "    </tr>\n",
       "    <tr>\n",
       "      <th>1</th>\n",
       "      <td>DisneyPlus</td>\n",
       "      <td>who’s excited?! [removed]</td>\n",
       "      <td>[who, s, excited, removed]</td>\n",
       "      <td>[excited]</td>\n",
       "      <td>excited</td>\n",
       "      <td>excit</td>\n",
       "    </tr>\n",
       "    <tr>\n",
       "      <th>2</th>\n",
       "      <td>DisneyPlus</td>\n",
       "      <td>hocus pocus  was a let down, thoughts? [removed]</td>\n",
       "      <td>[hocus, pocus, was, a, let, down, thoughts, removed]</td>\n",
       "      <td>[hocus, pocus, let, thoughts]</td>\n",
       "      <td>hocus pocus let thought</td>\n",
       "      <td>hocu pocu let thought</td>\n",
       "    </tr>\n",
       "    <tr>\n",
       "      <th>3</th>\n",
       "      <td>DisneyPlus</td>\n",
       "      <td>friend made hocus pocus cookies!</td>\n",
       "      <td>[friend, made, hocus, pocus, cookies]</td>\n",
       "      <td>[friend, made, hocus, pocus, cookies]</td>\n",
       "      <td>friend made hocus pocus cooky</td>\n",
       "      <td>friend made hocu pocu cooki</td>\n",
       "    </tr>\n",
       "    <tr>\n",
       "      <th>4</th>\n",
       "      <td>DisneyPlus</td>\n",
       "      <td>hocus pocus  - movie discussion thread as there wasn't one already thought i'd create one.</td>\n",
       "      <td>[hocus, pocus, movie, discussion, thread, as, there, wasn, t, one, already, thought, i, d, create, one]</td>\n",
       "      <td>[hocus, pocus, discussion, thread, one, already, thought, create, one]</td>\n",
       "      <td>hocus pocus discussion thread one already thought create one</td>\n",
       "      <td>hocu pocu discuss thread one alreadi thought creat one</td>\n",
       "    </tr>\n",
       "  </tbody>\n",
       "</table>\n",
       "</div>"
      ],
      "text/plain": [
       "    subreddit  \\\n",
       "0  DisneyPlus   \n",
       "1  DisneyPlus   \n",
       "2  DisneyPlus   \n",
       "3  DisneyPlus   \n",
       "4  DisneyPlus   \n",
       "\n",
       "                                                                                    full_text  \\\n",
       "0                                 willow.... thought you were to be released today? [removed]   \n",
       "1                                                                   who’s excited?! [removed]   \n",
       "2                                            hocus pocus  was a let down, thoughts? [removed]   \n",
       "3                                                           friend made hocus pocus cookies!    \n",
       "4  hocus pocus  - movie discussion thread as there wasn't one already thought i'd create one.   \n",
       "\n",
       "                                                                                                     token  \\\n",
       "0                                           [willow, thought, you, were, to, be, released, today, removed]   \n",
       "1                                                                               [who, s, excited, removed]   \n",
       "2                                                     [hocus, pocus, was, a, let, down, thoughts, removed]   \n",
       "3                                                                    [friend, made, hocus, pocus, cookies]   \n",
       "4  [hocus, pocus, movie, discussion, thread, as, there, wasn, t, one, already, thought, i, d, create, one]   \n",
       "\n",
       "                                                               text_token  \\\n",
       "0                                      [willow, thought, released, today]   \n",
       "1                                                               [excited]   \n",
       "2                                           [hocus, pocus, let, thoughts]   \n",
       "3                                   [friend, made, hocus, pocus, cookies]   \n",
       "4  [hocus, pocus, discussion, thread, one, already, thought, create, one]   \n",
       "\n",
       "                                                  full_text_lem  \\\n",
       "0                                 willow thought released today   \n",
       "1                                                       excited   \n",
       "2                                       hocus pocus let thought   \n",
       "3                                 friend made hocus pocus cooky   \n",
       "4  hocus pocus discussion thread one already thought create one   \n",
       "\n",
       "                                           full_text_stem  \n",
       "0                             willow thought releas today  \n",
       "1                                                   excit  \n",
       "2                                   hocu pocu let thought  \n",
       "3                             friend made hocu pocu cooki  \n",
       "4  hocu pocu discuss thread one alreadi thought creat one  "
      ]
     },
     "execution_count": 23,
     "metadata": {},
     "output_type": "execute_result"
    }
   ],
   "source": [
    "# show the head of df_corpus\n",
    "df_corpus.head()"
   ]
  },
  {
   "cell_type": "markdown",
   "id": "03ce3f93-11d1-4af5-a672-123eb6377b90",
   "metadata": {},
   "source": [
    "### Choosing between Lemmatized tokens and Stemming tokens"
   ]
  },
  {
   "cell_type": "code",
   "execution_count": 24,
   "id": "8a54082c-50d3-42a4-9b74-f985deed5a60",
   "metadata": {},
   "outputs": [],
   "source": [
    "# Create the document-term-matrix for lemmatized full text\n",
    "cvec = CountVectorizer()\n",
    "\n",
    "lem_cvec = pd.DataFrame(data = cvec.fit_transform(df_corpus['full_text_lem']).todense(),\n",
    "                        columns = cvec.get_feature_names()\n",
    "                       )"
   ]
  },
  {
   "cell_type": "code",
   "execution_count": 25,
   "id": "a5464da4-71f1-408a-b1a7-1e1078643348",
   "metadata": {},
   "outputs": [
    {
     "name": "stdout",
     "output_type": "stream",
     "text": [
      "Count of unique words in lemmatized text: 26698\n"
     ]
    }
   ],
   "source": [
    "# Show the total count of unique words in DTM (lemmatized)\n",
    "print(f'Count of unique words in lemmatized text: {len(lem_cvec.columns)}')"
   ]
  },
  {
   "cell_type": "code",
   "execution_count": 26,
   "id": "d303bc49-d4a9-4695-8b48-3d4fa120e87f",
   "metadata": {},
   "outputs": [],
   "source": [
    "# Create the document-term-matrix for stemmed full text\n",
    "stem_cvec = pd.DataFrame(data = cvec.fit_transform(df_corpus['full_text_stem']).todense(),\n",
    "                         columns = cvec.get_feature_names()\n",
    "                        )"
   ]
  },
  {
   "cell_type": "code",
   "execution_count": 27,
   "id": "1d994992-5bc9-4019-938b-b9a8d6953365",
   "metadata": {},
   "outputs": [
    {
     "name": "stdout",
     "output_type": "stream",
     "text": [
      "Count of unique words in stemmed text: 21559\n"
     ]
    }
   ],
   "source": [
    "# Show the total count of unique words in DTM (Stemmed)\n",
    "print(f'Count of unique words in stemmed text: {len(stem_cvec.columns)}')"
   ]
  },
  {
   "cell_type": "markdown",
   "id": "34478898-a3e6-436a-beaa-e76341f37f02",
   "metadata": {},
   "source": [
    "Even though Stemming reduced our word corpus token count by about 5000 words more than Lemmatization, it distorts the context of the original word ([source](https://towardsdatascience.com/stemming-vs-lemmatization-in-nlp-dea008600a0)). Thus, we will use lemmatized full text as the context of the word has more prediction power for this classification problem."
   ]
  },
  {
   "cell_type": "markdown",
   "id": "5b213822-2070-48ef-b328-7c12648cd345",
   "metadata": {},
   "source": [
    "## Vectorization"
   ]
  },
  {
   "cell_type": "markdown",
   "id": "26fb1178-96ba-4377-b4d4-0ded4da9a0e8",
   "metadata": {},
   "source": [
    "Using Count Vectorizer - Unigram"
   ]
  },
  {
   "cell_type": "code",
   "execution_count": 28,
   "id": "cdb022a4-ad00-4a3e-af94-a11872667c56",
   "metadata": {},
   "outputs": [
    {
     "name": "stdout",
     "output_type": "stream",
     "text": [
      "The size of lemmatized document-term matrix is (29831, 26698)\n"
     ]
    }
   ],
   "source": [
    "print(f'The size of lemmatized document-term matrix is {lem_cvec.shape}')"
   ]
  },
  {
   "cell_type": "code",
   "execution_count": 29,
   "id": "81dc39bc-ebf8-492e-918d-3822c075e8f3",
   "metadata": {},
   "outputs": [],
   "source": [
    "# Show the top 25 words in DTM\n",
    "\n",
    "full_word_count = lem_cvec.sum().sort_values(ascending=False)\n",
    "lem_top_count = full_word_count[:25]"
   ]
  },
  {
   "cell_type": "code",
   "execution_count": 30,
   "id": "96b73047-510f-4c69-8f74-1da7703ea62a",
   "metadata": {},
   "outputs": [
    {
     "data": {
      "image/png": "[encoded data removed]",
      "text/plain": [
       "<Figure size 640x480 with 1 Axes>"
      ]
     },
     "metadata": {},
     "output_type": "display_data"
    }
   ],
   "source": [
    "# Bar chart on the top 25 words in DTM\n",
    "\n",
    "sns.barplot(x = lem_top_count.values,\n",
    "            y = lem_top_count.index);\n",
    "\n",
    "plt.title('Top 25 words in lemmatized & count vectorized text')\n",
    "plt.show();"
   ]
  },
  {
   "cell_type": "markdown",
   "id": "bc555683-f1e3-4c2a-abdc-335307b2b86e",
   "metadata": {},
   "source": [
    "Using TF-IDF Vectorizer - Unigram"
   ]
  },
  {
   "cell_type": "code",
   "execution_count": 31,
   "id": "d627e051-7e4b-4d16-9f30-ae3001a457a9",
   "metadata": {},
   "outputs": [],
   "source": [
    "# TF-IDF Vectorize the document in lemmatized full text & create DTM\n",
    "tfvec = TfidfVectorizer()\n",
    "\n",
    "lem_tfvec = pd.DataFrame(data = tfvec.fit_transform(df_corpus['full_text_lem']).todense(),\n",
    "                         columns = tfvec.get_feature_names()\n",
    "                        )"
   ]
  },
  {
   "cell_type": "code",
   "execution_count": 32,
   "id": "6bc0cafb-d0ae-4bb5-9185-fdb2d0ddbcc5",
   "metadata": {},
   "outputs": [
    {
     "name": "stdout",
     "output_type": "stream",
     "text": [
      "The size of lemmatized document-term matrix is (29831, 26698)\n"
     ]
    }
   ],
   "source": [
    "print(f'The size of lemmatized document-term matrix is {lem_tfvec.shape}')"
   ]
  },
  {
   "cell_type": "code",
   "execution_count": 33,
   "id": "d419570a-ba11-473f-91a0-3dd0e90132f3",
   "metadata": {},
   "outputs": [],
   "source": [
    "# Show the top 25 words in DTM\n",
    "\n",
    "full_word_count = lem_tfvec.sum().sort_values(ascending=False)\n",
    "lemtf_top_count = full_word_count[:25]"
   ]
  },
  {
   "cell_type": "code",
   "execution_count": 34,
   "id": "c8971e13-4e4f-4a6a-83e8-71f57c4cc6c8",
   "metadata": {},
   "outputs": [
    {
     "data": {
      "image/png": "[encoded data removed]",
      "text/plain": [
       "<Figure size 640x480 with 1 Axes>"
      ]
     },
     "metadata": {},
     "output_type": "display_data"
    }
   ],
   "source": [
    "# Bar chart on the top 25 words in DRM\n",
    "\n",
    "sns.barplot(x = lemtf_top_count.values,\n",
    "            y = lemtf_top_count.index);\n",
    "\n",
    "plt.title('Top 25 words in lemmatized & TF-IDF vectorized text')\n",
    "plt.show();"
   ]
  },
  {
   "cell_type": "code",
   "execution_count": 35,
   "id": "a45d2418-6960-46a2-82b8-283c161e860b",
   "metadata": {
    "tags": []
   },
   "outputs": [
    {
     "name": "stdout",
     "output_type": "stream",
     "text": [
      "List of non-english words: ['ác', 'álex', 'álvaro', 'ángel', 'ánima', 'áo', 'âge', 'ähnliche', 'änglagård', 'är', 'åmål', 'ça', 'èl', 'était', 'îs', 'ófærð', 'özge', 'özperinçci', 'último', 'úy', 'đa', 'đen', 'đi', 'điều', 'đua', 'đài', 'đè', 'đêm', 'đình', 'đôi', 'đường', 'đại', 'đảo', 'đấu', 'đầu', 'đẫm', 'đặc', 'đẹp', 'đế', 'để', 'địa', 'định', 'đồ', 'đồng', 'đổi', 'độ', 'đội', 'động', 'đời', 'ǝpᴉs', 'ǝǝs', 'ǝɥʇ', 'ɹǝɥʇo', 'αρχή', 'για', 'δείτε', 'και', 'καλή', 'λίγο', 'μονο', 'μπείτε', 'προσφορές', 'σχεδόν', 'τσάμπα', 'аbout', 'еxperiеnсе', 'оf', 'оnly', 'рassеd', 'тhere', 'ויבוא', 'זוהר', 'לפורים', 'מבית', 'עיצוב', 'שושי', 'תחפושות', 'أول', 'الأول', 'الانطلاقة', 'الرجل', 'الرمادي', 'العرض', 'الكمبيوتر', 'بجودة', 'برنامج', 'بلک', 'تحصل', 'تسجيل', 'تشويقية', 'تغيير', 'تفاصيل', 'جدید', 'رئيس', 'سر', 'سریال', 'سلسلة', 'شاشة', 'صور', 'ضرب', 'عالية', 'عرضه', 'على', 'في', 'فيديو', 'فيلم', 'قصة', 'كلمة', 'كيفية', 'لشهر', 'لـ', 'مجانا', 'مقطورة', 'من', 'موعد', 'نار', 'نظرة', 'نوفمبر', 'نيوز', 'وأبطاله', 'وموعد', 'ویدو', 'ویدیو', 'ياسمين', 'अजय', 'अपन', 'अल', 'अवत', 'आप', 'आय', 'इत', 'उद', 'उन', 'उसस', 'और', 'कब', 'कर', 'कह', 'खकर', 'घर', 'जन', 'जब', 'तल', 'धरण', 'परम', 'पहल', 'भक', 'मद', 'मन', 'यह', 'रह', 'लक', 'वगन', 'वत', 'वर', 'सम', 'हजरत', 'ảnh', 'ảo', 'ấp', 'ấu', 'ấy', 'ức', 'おい', 'やめろ', 'グーフィームービー', 'ㅤㅤㅤㅤㅤㅤㅤㅤㅤㅤㅤㅤㅤㅤㅤㅤㅤㅤㅤㅤㅤㅤㅤㅤㅤㅤㅤㅤㅤㅤㅤㅤㅤㅤㅤㅤㅤㅤㅤㅤㅤㅤㅤㅤㅤㅤㅤㅤㅤㅤㅤㅤㅤㅤㅤㅤㅤㅤㅤㅤㅤㅤㅤㅤㅤㅤㅤㅤㅤㅤㅤㅤㅤㅤㅤㅤㅤㅤㅤㅤㅤㅤㅤㅤㅤㅤㅤㅤㅤㅤㅤㅤㅤㅤㅤㅤㅤㅤㅤㅤㅤㅤㅤㅤㅤㅤㅤㅤㅤㅤㅤㅤㅤㅤㅤㅤㅤㅤㅤㅤㅤㅤㅤㅤㅤㅤㅤㅤㅤㅤㅤㅤㅤㅤㅤㅤㅤㅤㅤㅤㅤㅤㅤㅤㅤㅤㅤㅤㅤㅤㅤㅤㅤㅤㅤㅤㅤㅤㅤㅤㅤㅤㅤㅤㅤㅤㅤㅤㅤㅤㅤㅤㅤㅤㅤㅤㅤㅤㅤㅤㅤㅤㅤㅤㅤㅤㅤㅤㅤㅤㅤㅤㅤㅤㅤㅤㅤ', '鬼滅の刃', '마이', '배가본드', '비너스', '삼겹살', '킹덤', '𝐿𝑜𝑢𝑛𝑔𝑒', '𝑀𝑖𝑘𝑒', '𝑊𝑎𝑧𝑜𝑤𝑠𝑘𝑖']\n"
     ]
    }
   ],
   "source": [
    "print(f'List of non-english words: {tfvec.get_feature_names()[-176:]}')"
   ]
  },
  {
   "cell_type": "markdown",
   "id": "bdd1f3e1-e71e-4787-b32e-87ae89159a39",
   "metadata": {},
   "source": [
    "TF-IDF vectorization would be more favourable as it gives higher scores to word features that have more predictive power in respect to the overall corpus. In turn, it reduces noise word features. However, we will use both vectorization methods for baseline modelling later.<br>\n",
    "It is good to note that the last 176 features in the word vectors are non-English words. Despite them being in a foreign language, it is fine to feed these words into the model. These foreign words would still have some predictive power."
   ]
  },
  {
   "cell_type": "markdown",
   "id": "99cc131c-e6f9-4b19-ae81-8392ab496ce0",
   "metadata": {},
   "source": [
    "Export corpus for ML Modelling in Book 4"
   ]
  },
  {
   "cell_type": "code",
   "execution_count": 36,
   "id": "3ac701aa-98e3-438a-b2d6-f5b03f9697b9",
   "metadata": {},
   "outputs": [],
   "source": [
    "# Create a cleaned corpus for modelling\n",
    "df_corpus_clean = df_corpus[['subreddit', 'full_text', 'full_text_lem', 'full_text_stem']]"
   ]
  },
  {
   "cell_type": "code",
   "execution_count": 37,
   "id": "c3a0e1ce-27b1-49c6-b69e-5decc21976d8",
   "metadata": {},
   "outputs": [],
   "source": [
    "import os\n",
    "# create new folder named 'data' if it does not exist\n",
    "if not os.path.exists('../data'):\n",
    "    os.makedirs('../data')\n",
    "    \n",
    "# Export the corpus into csv file    \n",
    "df_corpus_clean.to_csv('../data/df_corpus_model.csv', index=False)"
   ]
  },
  {
   "cell_type": "markdown",
   "id": "c9a747d3-190b-4985-ae54-87986a9eeb98",
   "metadata": {},
   "source": [
    "**Please proceed to Book 4 for ML Modeling**"
   ]
  }
 ],
 "metadata": {
  "kernelspec": {
   "display_name": "Python [conda env:dsi-proj3]",
   "language": "python",
   "name": "conda-env-dsi-proj3-py"
  },
  "language_info": {
   "codemirror_mode": {
    "name": "ipython",
    "version": 3
   },
   "file_extension": ".py",
   "mimetype": "text/x-python",
   "name": "python",
   "nbconvert_exporter": "python",
   "pygments_lexer": "ipython3",
   "version": "3.7.13"
  }
 },
 "nbformat": 4,
 "nbformat_minor": 5
}
