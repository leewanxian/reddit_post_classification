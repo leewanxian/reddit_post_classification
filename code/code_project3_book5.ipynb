{
 "cells": [
  {
   "cell_type": "markdown",
   "id": "acd766bf-0cea-492d-9be5-275fae023f3e",
   "metadata": {},
   "source": [
    "# Project 3: Web APIs & NLP\n",
    "---\n",
    "Book 1: Data Collection<br>\n",
    "Book 2: Data Cleaning & Exploratory Data Analysis<br>\n",
    "Book 3: Preprocessing & Vectorization<br>\n",
    "Book 4: ML Modeling<br>\n",
    "**Book 5: Sentiment Analysis, Conclusion & Recommendation**<br>\n",
    "Author: Lee Wan Xian"
   ]
  },
  {
   "cell_type": "markdown",
   "id": "4d018bf0-8902-4c4f-b11c-f2f8f73b1513",
   "metadata": {},
   "source": [
    "## Contents:\n",
    "- [Sentiment Analysis](#Sentiment-Analysis)\n",
    "- [Conclusion](#Conclusion)\n",
    "- [Recommendation](#Recommendation)"
   ]
  },
  {
   "cell_type": "markdown",
   "id": "7a5ec0a7-94cf-423a-9f27-a7d65deaba87",
   "metadata": {},
   "source": [
    "## Python Libraries"
   ]
  },
  {
   "cell_type": "code",
   "execution_count": 1,
   "id": "eb909ac5-4be3-4d95-9983-6777c98cfd96",
   "metadata": {},
   "outputs": [],
   "source": [
    "import pandas as pd\n",
    "import numpy as np\n",
    "import matplotlib.pyplot as plt\n",
    "import seaborn as sns\n",
    "\n",
    "import emoji\n",
    "from transformers import pipeline"
   ]
  },
  {
   "cell_type": "code",
   "execution_count": 2,
   "id": "10ce02b8-04bc-4732-8632-ab744b114416",
   "metadata": {},
   "outputs": [],
   "source": [
    "# this setting widens how many characters pandas will display in a column:\n",
    "pd.options.display.max_colwidth = 400"
   ]
  },
  {
   "cell_type": "markdown",
   "id": "c07df047-3e53-43b1-91c3-c6fbe3550e86",
   "metadata": {},
   "source": [
    "## Sentiment Analysis"
   ]
  },
  {
   "cell_type": "markdown",
   "id": "2fd7e4a7-ad81-4c0d-9ee5-d2e937e0d656",
   "metadata": {},
   "source": [
    "### Preprocessing"
   ]
  },
  {
   "cell_type": "code",
   "execution_count": 3,
   "id": "a1f3632f-f78d-48c4-aa3e-dc334df26b53",
   "metadata": {},
   "outputs": [],
   "source": [
    "# Import corpus for sentiment analysis\n",
    "df_senti = pd.read_csv('../data/df_senti.csv')"
   ]
  },
  {
   "cell_type": "code",
   "execution_count": 4,
   "id": "4245f37b-4da0-4606-957a-f840ad5918b8",
   "metadata": {},
   "outputs": [],
   "source": [
    "# Drop unwanted columns\n",
    "df_senti = df_senti[['subreddit', 'title']]"
   ]
  },
  {
   "cell_type": "code",
   "execution_count": 5,
   "id": "b483ff59-8f26-4304-9a1a-667fc748d13d",
   "metadata": {},
   "outputs": [
    {
     "name": "stdout",
     "output_type": "stream",
     "text": [
      "(29831, 2)\n",
      "<class 'pandas.core.frame.DataFrame'>\n",
      "RangeIndex: 29831 entries, 0 to 29830\n",
      "Data columns (total 2 columns):\n",
      " #   Column     Non-Null Count  Dtype \n",
      "---  ------     --------------  ----- \n",
      " 0   subreddit  29831 non-null  object\n",
      " 1   title      29831 non-null  object\n",
      "dtypes: object(2)\n",
      "memory usage: 466.2+ KB\n"
     ]
    }
   ],
   "source": [
    "print(df_senti.shape)\n",
    "df_senti.info()"
   ]
  },
  {
   "cell_type": "code",
   "execution_count": 6,
   "id": "59b2844f-16b4-48e6-9614-e33f4e76d75b",
   "metadata": {},
   "outputs": [],
   "source": [
    "# Lowercase full_text & subreddit for BERT model\n",
    "df_senti['subreddit'] = df_senti['subreddit'].str.lower()\n",
    "df_senti['title'] = df_senti['title'].str.lower()"
   ]
  },
  {
   "cell_type": "code",
   "execution_count": 7,
   "id": "5211af67-7c81-4e4f-b4c3-1cb1082b1ab4",
   "metadata": {},
   "outputs": [],
   "source": [
    "# Convert emojis into text\n",
    "df_senti['title'] = df_senti['title'].apply(lambda x: emoji.demojize(x, delimiters=(\" \", \" \")))"
   ]
  },
  {
   "cell_type": "markdown",
   "id": "2eaa470d-9fc4-4e03-bef3-b47474213a97",
   "metadata": {},
   "source": [
    "### Create subsets for individual shows"
   ]
  },
  {
   "cell_type": "markdown",
   "id": "35745722-f415-4079-8e05-f37e7f5ba8fe",
   "metadata": {},
   "source": [
    "For this sentiment analysis, we will look into the emotional sentiments on posts for the below 6 shows, given that these words have a high presence in DisneyPlus and Netflix corpus.\n",
    "* Squid Game\n",
    "* Stranger Things\n",
    "* Better Call Saul\n",
    "* Black Widow\n",
    "* Star Wars\n",
    "* Moon Knight"
   ]
  },
  {
   "cell_type": "code",
   "execution_count": 8,
   "id": "855a1752-8b2c-4d11-843a-e2b67d612f12",
   "metadata": {},
   "outputs": [],
   "source": [
    "# Create sub corpus for all 6 shows\n",
    "df_squidgame = df_senti[df_senti['title'].str.contains('squid game')]\n",
    "df_stranger = df_senti[df_senti['title'].str.contains('stranger things')]\n",
    "df_callsaul = df_senti[df_senti['title'].str.contains('better call saul')]\n",
    "df_blackwidow = df_senti[df_senti['title'].str.contains('black widow')]\n",
    "df_starwars = df_senti[df_senti['title'].str.contains('star wars')]\n",
    "df_moonknight = df_senti[df_senti['title'].str.contains('moonknight')]"
   ]
  },
  {
   "cell_type": "markdown",
   "id": "5d8f65e4-3351-42f9-a758-a16747232e03",
   "metadata": {},
   "source": [
    "### Sentiment Analysis Modelling"
   ]
  },
  {
   "cell_type": "markdown",
   "id": "f2b216d1-5a52-4bea-be9f-270906317b06",
   "metadata": {},
   "source": [
    "We will be using the `emotion-english-distilroberta-base` sentiment model from BERT to pull out the key emotion for each title ([model](https://huggingface.co/j-hartmann/emotion-english-distilroberta-base))."
   ]
  },
  {
   "cell_type": "code",
   "execution_count": 9,
   "id": "0e835adb-20c6-407e-b2fa-2577fbda839c",
   "metadata": {},
   "outputs": [],
   "source": [
    "# Instantiate Sentiment model\n",
    "classifier = pipeline(\"text-classification\", model=\"j-hartmann/emotion-english-distilroberta-base\", top_k=1)"
   ]
  },
  {
   "cell_type": "code",
   "execution_count": 10,
   "id": "9376cd87-f2b9-43b4-b4c9-3f1181ceac2d",
   "metadata": {},
   "outputs": [],
   "source": [
    "# Function to assign main emotion to title\n",
    "\n",
    "def main_senti(text):\n",
    "    \n",
    "    s = classifier(text)         # Capture the top emotion derived from BERT model\n",
    "    df = pd.DataFrame(data=s)    # Convert the result as a Pandas dataframe\n",
    "    sen = df.iat[0,0]            # Pull out the dictionary located in cell [0,0] of the dataframe\n",
    "    \n",
    "    return sen.get('label')      # Pull out the value of key:label from the dictionary"
   ]
  },
  {
   "cell_type": "code",
   "execution_count": 11,
   "id": "e844cd04-3fcf-46ea-87e8-55fc4865977c",
   "metadata": {
    "scrolled": true,
    "tags": []
   },
   "outputs": [
    {
     "name": "stderr",
     "output_type": "stream",
     "text": [
      "C:\\Anaconda\\envs\\dsi-proj3\\lib\\site-packages\\ipykernel_launcher.py:2: SettingWithCopyWarning: \n",
      "A value is trying to be set on a copy of a slice from a DataFrame.\n",
      "Try using .loc[row_indexer,col_indexer] = value instead\n",
      "\n",
      "See the caveats in the documentation: https://pandas.pydata.org/pandas-docs/stable/user_guide/indexing.html#returning-a-view-versus-a-copy\n",
      "  \n",
      "C:\\Anaconda\\envs\\dsi-proj3\\lib\\site-packages\\ipykernel_launcher.py:3: SettingWithCopyWarning: \n",
      "A value is trying to be set on a copy of a slice from a DataFrame.\n",
      "Try using .loc[row_indexer,col_indexer] = value instead\n",
      "\n",
      "See the caveats in the documentation: https://pandas.pydata.org/pandas-docs/stable/user_guide/indexing.html#returning-a-view-versus-a-copy\n",
      "  This is separate from the ipykernel package so we can avoid doing imports until\n",
      "C:\\Anaconda\\envs\\dsi-proj3\\lib\\site-packages\\ipykernel_launcher.py:4: SettingWithCopyWarning: \n",
      "A value is trying to be set on a copy of a slice from a DataFrame.\n",
      "Try using .loc[row_indexer,col_indexer] = value instead\n",
      "\n",
      "See the caveats in the documentation: https://pandas.pydata.org/pandas-docs/stable/user_guide/indexing.html#returning-a-view-versus-a-copy\n",
      "  after removing the cwd from sys.path.\n",
      "C:\\Anaconda\\envs\\dsi-proj3\\lib\\site-packages\\ipykernel_launcher.py:5: SettingWithCopyWarning: \n",
      "A value is trying to be set on a copy of a slice from a DataFrame.\n",
      "Try using .loc[row_indexer,col_indexer] = value instead\n",
      "\n",
      "See the caveats in the documentation: https://pandas.pydata.org/pandas-docs/stable/user_guide/indexing.html#returning-a-view-versus-a-copy\n",
      "  \"\"\"\n",
      "C:\\Anaconda\\envs\\dsi-proj3\\lib\\site-packages\\ipykernel_launcher.py:6: SettingWithCopyWarning: \n",
      "A value is trying to be set on a copy of a slice from a DataFrame.\n",
      "Try using .loc[row_indexer,col_indexer] = value instead\n",
      "\n",
      "See the caveats in the documentation: https://pandas.pydata.org/pandas-docs/stable/user_guide/indexing.html#returning-a-view-versus-a-copy\n",
      "  \n",
      "C:\\Anaconda\\envs\\dsi-proj3\\lib\\site-packages\\ipykernel_launcher.py:7: SettingWithCopyWarning: \n",
      "A value is trying to be set on a copy of a slice from a DataFrame.\n",
      "Try using .loc[row_indexer,col_indexer] = value instead\n",
      "\n",
      "See the caveats in the documentation: https://pandas.pydata.org/pandas-docs/stable/user_guide/indexing.html#returning-a-view-versus-a-copy\n",
      "  import sys\n"
     ]
    }
   ],
   "source": [
    "# Input the main emotion for each document\n",
    "df_squidgame['emotion'] = df_squidgame['title'].apply(main_senti)\n",
    "df_stranger['emotion'] = df_stranger['title'].apply(main_senti)\n",
    "df_callsaul['emotion'] = df_callsaul['title'].apply(main_senti)\n",
    "df_blackwidow['emotion'] = df_blackwidow['title'].apply(main_senti)\n",
    "df_starwars['emotion'] = df_starwars['title'].apply(main_senti)\n",
    "df_moonknight['emotion'] = df_moonknight['title'].apply(main_senti)"
   ]
  },
  {
   "cell_type": "markdown",
   "id": "fe765208-09fa-41d0-8cd9-58e371f04e9c",
   "metadata": {},
   "source": [
    "*Note: The SettingWithCopyWarning warning message is a false alarm. As there is no value assignment done, this warning has no relevance for this case and can be ignored*"
   ]
  },
  {
   "cell_type": "code",
   "execution_count": 12,
   "id": "f1897f52-954c-48b1-a0e7-e8f242abaf52",
   "metadata": {},
   "outputs": [],
   "source": [
    "# Create series of count of emotion against shows\n",
    "squid_game = df_squidgame.groupby('emotion')['emotion'].count()\n",
    "stranger_things = df_stranger.groupby('emotion')['emotion'].count()\n",
    "better_call_saul = df_callsaul.groupby('emotion')['emotion'].count()\n",
    "black_widow = df_blackwidow.groupby('emotion')['emotion'].count()\n",
    "star_wars = df_starwars.groupby('emotion')['emotion'].count()\n",
    "moon_knight = df_moonknight.groupby('emotion')['emotion'].count()"
   ]
  },
  {
   "cell_type": "code",
   "execution_count": 13,
   "id": "24f0e794-c70f-4a83-a4f9-9748251ed4bc",
   "metadata": {},
   "outputs": [],
   "source": [
    "# Create a df for emotions against shows\n",
    "df_emotion = pd.DataFrame({\n",
    "    'Squid Game': squid_game,\n",
    "    'Stranger Things': stranger_things,\n",
    "    'Better Call Saul': better_call_saul,\n",
    "    'Black Widow': black_widow,\n",
    "    'Star Wars': star_wars,\n",
    "    'Moon Knight': moon_knight\n",
    "})\n",
    "\n",
    "# Fill NaN cells with '0'\n",
    "df_emotion.fillna(0, inplace=True)"
   ]
  },
  {
   "cell_type": "code",
   "execution_count": 14,
   "id": "144bb5d4-fdaa-407c-aea2-ad14c892f34b",
   "metadata": {},
   "outputs": [
    {
     "data": {
      "text/html": [
       "<div>\n",
       "<style scoped>\n",
       "    .dataframe tbody tr th:only-of-type {\n",
       "        vertical-align: middle;\n",
       "    }\n",
       "\n",
       "    .dataframe tbody tr th {\n",
       "        vertical-align: top;\n",
       "    }\n",
       "\n",
       "    .dataframe thead th {\n",
       "        text-align: right;\n",
       "    }\n",
       "</style>\n",
       "<table border=\"1\" class=\"dataframe\">\n",
       "  <thead>\n",
       "    <tr style=\"text-align: right;\">\n",
       "      <th></th>\n",
       "      <th>Squid Game</th>\n",
       "      <th>Stranger Things</th>\n",
       "      <th>Better Call Saul</th>\n",
       "      <th>Black Widow</th>\n",
       "      <th>Star Wars</th>\n",
       "      <th>Moon Knight</th>\n",
       "    </tr>\n",
       "    <tr>\n",
       "      <th>emotion</th>\n",
       "      <th></th>\n",
       "      <th></th>\n",
       "      <th></th>\n",
       "      <th></th>\n",
       "      <th></th>\n",
       "      <th></th>\n",
       "    </tr>\n",
       "  </thead>\n",
       "  <tbody>\n",
       "    <tr>\n",
       "      <th>anger</th>\n",
       "      <td>7</td>\n",
       "      <td>16</td>\n",
       "      <td>2.0</td>\n",
       "      <td>3.0</td>\n",
       "      <td>3</td>\n",
       "      <td>0.0</td>\n",
       "    </tr>\n",
       "    <tr>\n",
       "      <th>disgust</th>\n",
       "      <td>2</td>\n",
       "      <td>9</td>\n",
       "      <td>0.0</td>\n",
       "      <td>0.0</td>\n",
       "      <td>3</td>\n",
       "      <td>0.0</td>\n",
       "    </tr>\n",
       "    <tr>\n",
       "      <th>fear</th>\n",
       "      <td>3</td>\n",
       "      <td>17</td>\n",
       "      <td>5.0</td>\n",
       "      <td>1.0</td>\n",
       "      <td>12</td>\n",
       "      <td>0.0</td>\n",
       "    </tr>\n",
       "    <tr>\n",
       "      <th>joy</th>\n",
       "      <td>21</td>\n",
       "      <td>56</td>\n",
       "      <td>4.0</td>\n",
       "      <td>12.0</td>\n",
       "      <td>46</td>\n",
       "      <td>3.0</td>\n",
       "    </tr>\n",
       "    <tr>\n",
       "      <th>neutral</th>\n",
       "      <td>59</td>\n",
       "      <td>219</td>\n",
       "      <td>54.0</td>\n",
       "      <td>57.0</td>\n",
       "      <td>150</td>\n",
       "      <td>5.0</td>\n",
       "    </tr>\n",
       "    <tr>\n",
       "      <th>sadness</th>\n",
       "      <td>3</td>\n",
       "      <td>17</td>\n",
       "      <td>12.0</td>\n",
       "      <td>19.0</td>\n",
       "      <td>28</td>\n",
       "      <td>1.0</td>\n",
       "    </tr>\n",
       "    <tr>\n",
       "      <th>surprise</th>\n",
       "      <td>10</td>\n",
       "      <td>103</td>\n",
       "      <td>9.0</td>\n",
       "      <td>16.0</td>\n",
       "      <td>42</td>\n",
       "      <td>2.0</td>\n",
       "    </tr>\n",
       "  </tbody>\n",
       "</table>\n",
       "</div>"
      ],
      "text/plain": [
       "          Squid Game  Stranger Things  Better Call Saul  Black Widow  \\\n",
       "emotion                                                                \n",
       "anger              7               16               2.0          3.0   \n",
       "disgust            2                9               0.0          0.0   \n",
       "fear               3               17               5.0          1.0   \n",
       "joy               21               56               4.0         12.0   \n",
       "neutral           59              219              54.0         57.0   \n",
       "sadness            3               17              12.0         19.0   \n",
       "surprise          10              103               9.0         16.0   \n",
       "\n",
       "          Star Wars  Moon Knight  \n",
       "emotion                           \n",
       "anger             3          0.0  \n",
       "disgust           3          0.0  \n",
       "fear             12          0.0  \n",
       "joy              46          3.0  \n",
       "neutral         150          5.0  \n",
       "sadness          28          1.0  \n",
       "surprise         42          2.0  "
      ]
     },
     "execution_count": 14,
     "metadata": {},
     "output_type": "execute_result"
    }
   ],
   "source": [
    "# Display the dataframe for emotions\n",
    "df_emotion"
   ]
  },
  {
   "cell_type": "code",
   "execution_count": 15,
   "id": "0782d1a4-00c3-4ee9-9e5b-38c6ae4af385",
   "metadata": {},
   "outputs": [],
   "source": [
    "# Create a total sum of emotions column in df_emotion\n",
    "df_emotion['Total'] = df_emotion.sum(axis=1)"
   ]
  },
  {
   "cell_type": "code",
   "execution_count": 16,
   "id": "b6590b2c-bf71-4bf0-8b0f-9b8089de7285",
   "metadata": {},
   "outputs": [
    {
     "data": {
      "image/png": "[encoded data removed]",
      "text/plain": [
       "<Figure size 1000x300 with 1 Axes>"
      ]
     },
     "metadata": {},
     "output_type": "display_data"
    }
   ],
   "source": [
    "# Bar chart for emotion sentiments for all shows\n",
    "df_emotion.sort_values('Total', ascending=False).plot(y='Total', kind='bar', rot=0, figsize=(10,3));\n",
    "plt.grid(axis='y', linewidth = 0.2)\n",
    "plt.title('Overall Emotions across all posts in Netflix and DisneyPlus subreddits');"
   ]
  },
  {
   "cell_type": "code",
   "execution_count": 17,
   "id": "64ac98a9-25e6-4009-92bc-815689ab3512",
   "metadata": {},
   "outputs": [
    {
     "data": {
      "image/png": "[encoded data removed]",
      "text/plain": [
       "<Figure size 1500x300 with 1 Axes>"
      ]
     },
     "metadata": {},
     "output_type": "display_data"
    }
   ],
   "source": [
    "# Bar chart for emotions sentiments for Netflix shows\n",
    "df_emotion.plot(y=['Squid Game','Stranger Things','Better Call Saul'], kind='bar', rot=0, figsize=(15,3));\n",
    "plt.grid(axis='y', linewidth = 0.2)\n",
    "plt.title('Emotions related to famous shows from Netflix');"
   ]
  },
  {
   "cell_type": "code",
   "execution_count": 18,
   "id": "d5acae4b-b128-4a76-a8da-df2167624419",
   "metadata": {},
   "outputs": [
    {
     "data": {
      "image/png": "[encoded data removed]",
      "text/plain": [
       "<Figure size 1500x300 with 1 Axes>"
      ]
     },
     "metadata": {},
     "output_type": "display_data"
    }
   ],
   "source": [
    "# Bar chart for emotions sentiments for Disney shows\n",
    "df_emotion.plot(y=['Black Widow','Star Wars','Moon Knight'], kind='bar', rot=0,figsize=(15,3));\n",
    "plt.grid(axis='y', linewidth = 0.2)\n",
    "plt.title('Emotions related to famous shows from DisneyPlus');"
   ]
  },
  {
   "cell_type": "markdown",
   "id": "f226cc48-2cb0-40d4-981c-6c719bce7e5d",
   "metadata": {},
   "source": [
    "### Summary"
   ]
  },
  {
   "cell_type": "markdown",
   "id": "82bec9ab-1172-4561-98fa-aaa2749be807",
   "metadata": {},
   "source": [
    "Most posts have a neutral sentiment towards all of the shows. It can be inferred that most of these posts are discussing about the show details and not expressing any strong emotional sentiments. Excluding neutral sentiment, surprise was the next common emotion with Stranger Things being the most discussed show amongst them.<br>\n",
    "\n",
    "The order of most common emotion shown in the subreddits are as follow:\n",
    "1. Neutral\n",
    "2. Surprise\n",
    "3. Joy\n",
    "4. Sadness\n",
    "5. Fear\n",
    "6. Anger\n",
    "7. Disgust\n",
    "\n",
    "Looking at the perspective of respective shows and excluding neutral sentiment, Joy is the most common emotion for Squid Game, Star Wars and Moon Knight. Surprise is the most common emotion for Stranger Things. Sadness is the most common emotion for Better Call Saul and Black Widow."
   ]
  },
  {
   "cell_type": "markdown",
   "id": "449d8064-ba3b-4b40-829d-2de43234d7fa",
   "metadata": {},
   "source": [
    "---"
   ]
  },
  {
   "cell_type": "markdown",
   "id": "180f2c0e-deda-4346-abd5-a544341edd5f",
   "metadata": {},
   "source": [
    "## Conclusion"
   ]
  },
  {
   "cell_type": "markdown",
   "id": "dc7bfd0f-5bb5-455e-9a86-8573cf2b9571",
   "metadata": {},
   "source": [
    "**Classification Model**\n",
    "\n",
    "Logistic Regression is the most suitable model to use for classifying posts to 2 different streaming services (DisneyPlus and Netflix). This model is able to predict the correct streaming service label tags better than leaving the label tagging by chance. Leaving the tagging by chance has a probabilty of about 0.5 of it being correct.<br>\n",
    "\n",
    "Reasons are stated as per below:\n",
    "1. Accuracy score has consistently fall within the range of 0.78 to 0.795.\n",
    "2. Accuracy score is well above 0.5, which is the rough probability of the label tagging being correct, if left to chance.\n",
    "3. Recall score and Precision score do not differ too much (Difference of 0.01). This means that the model performs consistently in predicting Netflix posts.\n",
    "4. Specificity score is very close to Recall score. This implies that the model performs consistently towards predicting DisneyPlus posts as well as Netflix posts.\n",
    "5. AUC metric is relatively close to 1. This implies that the model fits well with the data corpus on hand."
   ]
  },
  {
   "cell_type": "markdown",
   "id": "2f49c772-f4de-4136-b369-3cff24874730",
   "metadata": {},
   "source": [
    "**Sentiment Analysis**\n",
    "\n",
    "Stranger Things is the most discussed show in the forum with most posts expressing surprise, followed by joy. Given that surprise and joy are generally the most common emotions across the shows, it shows most users prefer to publish joyful or surprising posts of their favourite shows. Posts filled with anger or disgust are unfavorable to users and are rarely published in Reddit."
   ]
  },
  {
   "cell_type": "markdown",
   "id": "d65300c8-948a-4941-b51c-d82da65b5e70",
   "metadata": {},
   "source": [
    "**Limitation/Further Improvements**\n",
    "\n",
    "Our model might not be able to predict well when there are more than 2 classes. For example, if we need to classify posts based on Netflix, DisneyPlus and Amazon Prime Video, we will need more data on posts related to Amazon Prime Videos to retrain the model. In addition, other classification models (i.e. k-Nearest Neighbors Classifier) might perform much better under multi-class classification scenarios.<br>\n",
    "We restricted the maximum number of word vector features at 2500 when piping them into our model for training. The performance of the model might be different if we chose to increase or decrease the maximum number of features. We can run multiple experiments with varying maximum number of features on the baseline model to pinpoint the optimal maximum number of features.<br>\n",
    "A limitation of Logistic Regression is that it assumes the features have at most moderate multicollinearity with each other in order to perform well. This might be hard to achieve with text words in real world scenario.<br>\n",
    "\n",
    "Our sentiment analysis is quite rudimentary in nature as we analysed the title text. Ideally, we can run analysis in the body text to understand the intensity of emotion in each posts. Sentiment analysis on images and videos in the posts also can provide more signal to the model on the key emotion expressed."
   ]
  },
  {
   "cell_type": "markdown",
   "id": "b22f0dac-b850-43b2-8fa5-f67cbd515575",
   "metadata": {},
   "source": [
    "## Recommendation"
   ]
  },
  {
   "cell_type": "markdown",
   "id": "8072984b-ffff-4145-baa1-b912323e5f22",
   "metadata": {},
   "source": [
    "Going back to the problem statement, we recommend that the logistic regression model should be used for tagging posts to the right streaming service platform. This model would perform well when it needs to tag posts to either DisneyPlus or Netflix.\n",
    "\n",
    "We recommend that the client should promote more joyful or surprising posts in their search and homepage recommendations to boost user activity on their website."
   ]
  }
 ],
 "metadata": {
  "kernelspec": {
   "display_name": "Python [conda env:dsi-proj3]",
   "language": "python",
   "name": "conda-env-dsi-proj3-py"
  },
  "language_info": {
   "codemirror_mode": {
    "name": "ipython",
    "version": 3
   },
   "file_extension": ".py",
   "mimetype": "text/x-python",
   "name": "python",
   "nbconvert_exporter": "python",
   "pygments_lexer": "ipython3",
   "version": "3.7.13"
  }
 },
 "nbformat": 4,
 "nbformat_minor": 5
}
